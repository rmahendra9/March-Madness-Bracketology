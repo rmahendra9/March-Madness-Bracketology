{
 "cells": [
  {
   "cell_type": "code",
   "execution_count": 19,
   "metadata": {},
   "outputs": [],
   "source": [
    "import pandas as pd"
   ]
  },
  {
   "cell_type": "code",
   "execution_count": 20,
   "metadata": {},
   "outputs": [],
   "source": [
    "#Clean 2022\n",
    "df = pd.read_csv(\"../Additional_Stats_2022.csv\")\n",
    "cols = ['Team', '3Pt%','OReb%','2Pt%D','FTR','Scoring Margin']\n",
    "df = df[cols]\n",
    "df.set_index(\"Team\")\n",
    "df.to_csv(f\"Additional_Stats_2022.csv\") "
   ]
  },
  {
   "cell_type": "code",
   "execution_count": 21,
   "metadata": {},
   "outputs": [],
   "source": [
    "#Clean 2021\n",
    "df = pd.read_csv(\"../Additional_Stats_2021.csv\")\n",
    "cols = ['Team', '3Pt%','OReb%','2Pt%D','FTR','Scoring Margin']\n",
    "df = df[cols]\n",
    "df.set_index(\"Team\")\n",
    "df.to_csv(f\"Additional_Stats_2021.csv\") "
   ]
  },
  {
   "cell_type": "code",
   "execution_count": 22,
   "metadata": {},
   "outputs": [],
   "source": [
    "#Merge Stats for 2021 - 2024\n",
    "\n",
    "df24 = pd.read_csv(\"../Cleaned_Merged_Stats_2024.csv\")\n",
    "df23 = pd.read_csv(\"../Cleaned_Merged_Stats_2023.csv\")\n",
    "df22 = pd.read_csv(\"../Cleaned_Merged_Stats_2022.csv\")\n",
    "df21 = pd.read_csv(\"../Cleaned_Merged_Stats_2021.csv\")\n",
    "\n",
    "add24 = pd.read_csv(\"../Additional_Stats_2024.csv\")\n",
    "add23 = pd.read_csv(\"../Additional_Stats_2023.csv\")\n",
    "add22 = pd.read_csv(\"Additional_Stats_2022.csv\")\n",
    "add21 = pd.read_csv(\"Additional_Stats_2021.csv\")\n",
    "\n",
    "all_stats_2024_df = pd.merge(df24, add24, on='Team', how='right')\n",
    "all_stats_2023_df = pd.merge(df23, add23, on='Team', how='right')\n",
    "all_stats_2022_df = pd.merge(df22, add22, on='Team', how='right')\n",
    "all_stats_2021_df = pd.merge(df21, add21, on='Team', how='right')\n",
    "\n",
    "all_stats_2024_df.drop(all_stats_2024_df.columns[all_stats_2024_df.columns.str.contains('unnamed',case = False)],axis = 1, inplace = True)\n",
    "all_stats_2023_df.drop(all_stats_2023_df.columns[all_stats_2023_df.columns.str.contains('unnamed',case = False)],axis = 1, inplace = True)\n",
    "all_stats_2022_df.drop(all_stats_2022_df.columns[all_stats_2022_df.columns.str.contains('unnamed',case = False)],axis = 1, inplace = True)\n",
    "all_stats_2021_df.drop(all_stats_2021_df.columns[all_stats_2021_df.columns.str.contains('unnamed',case = False)],axis = 1, inplace = True)\n",
    "\n",
    "#Save dataframes\n",
    "def save_dfs(name, df):\n",
    "    rows = df.values\n",
    "    headers = df.columns\n",
    "    table_name = name\n",
    "    pd.DataFrame(rows, columns=headers).to_csv(f\"{table_name}.csv\")\n",
    "\n",
    "save_dfs(\"Cleaned_Merged_Stats_2024\", all_stats_2024_df)\n",
    "save_dfs(\"Cleaned_Merged_Stats_2023\", all_stats_2023_df)\n",
    "save_dfs(\"Cleaned_Merged_Stats_2022\", all_stats_2022_df)\n",
    "save_dfs(\"Cleaned_Merged_Stats_2021\", all_stats_2021_df)"
   ]
  }
 ],
 "metadata": {
  "kernelspec": {
   "display_name": ".venv",
   "language": "python",
   "name": "python3"
  },
  "language_info": {
   "codemirror_mode": {
    "name": "ipython",
    "version": 3
   },
   "file_extension": ".py",
   "mimetype": "text/x-python",
   "name": "python",
   "nbconvert_exporter": "python",
   "pygments_lexer": "ipython3",
   "version": "3.9.13"
  }
 },
 "nbformat": 4,
 "nbformat_minor": 2
}
